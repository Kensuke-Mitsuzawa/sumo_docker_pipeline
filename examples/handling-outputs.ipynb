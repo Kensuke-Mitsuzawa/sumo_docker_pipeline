{
 "cells": [
  {
   "cell_type": "markdown",
   "id": "3fd3e4c6-68bd-46cd-8a69-2f1910933dfe",
   "metadata": {},
   "source": [
    "# When you have outputs already"
   ]
  },
  {
   "cell_type": "code",
   "execution_count": 1,
   "id": "11c17d2d-0377-4d62-beb7-5e34ea7f5d73",
   "metadata": {},
   "outputs": [],
   "source": [
    "import sys\n",
    "sys.path.append('../')"
   ]
  },
  {
   "cell_type": "code",
   "execution_count": 2,
   "id": "4b8cd70f-5214-462a-8f40-88894786037d",
   "metadata": {},
   "outputs": [
    {
     "data": {
      "text/plain": [
       "True"
      ]
     },
     "execution_count": 2,
     "metadata": {},
     "output_type": "execute_result"
    }
   ],
   "source": [
    "import pathlib\n",
    "path_output_dir = pathlib.Path('../tests/resources/config_complete/output')\n",
    "path_output_dir.exists()"
   ]
  },
  {
   "cell_type": "markdown",
   "id": "14f660c7-ed47-4bc9-a75b-cf1aba36e50e",
   "metadata": {},
   "source": [
    "# Loading output files with a handler class"
   ]
  },
  {
   "cell_type": "code",
   "execution_count": 3,
   "id": "5a41476c-f7cb-4539-a90a-a7e68c42c42e",
   "metadata": {},
   "outputs": [],
   "source": [
    "from sumo_docker_pipeline import SumoResultObjects, ResultFile, MatrixObject"
   ]
  },
  {
   "cell_type": "markdown",
   "id": "e2e5428c-7267-44dc-bb6e-a79bb01a9252",
   "metadata": {},
   "source": [
    "`SumoResultObjects` is a hanlder-class of a directory of Sumo's output. \n",
    "\n",
    "If you have only an output file, you give 2 arguments of `path_output_dir` and `output_file_name`."
   ]
  },
  {
   "cell_type": "code",
   "execution_count": 4,
   "id": "df88482d-d59e-4e22-a96e-9e2da886cb9c",
   "metadata": {},
   "outputs": [],
   "source": [
    "output_handler = SumoResultObjects(path_output_dir=path_output_dir, output_file_name='grid_loop.out.xml')"
   ]
  },
  {
   "cell_type": "markdown",
   "id": "53210e55-739e-48a2-b1d6-051f2d69ce46",
   "metadata": {},
   "source": [
    "If you have multiple output files, you have to __put all output files in the same directory__.\n",
    "\n",
    "The handler class finds output files automatically."
   ]
  },
  {
   "cell_type": "code",
   "execution_count": 5,
   "id": "bb12c710-72fc-4274-9acf-8317eed489df",
   "metadata": {},
   "outputs": [],
   "source": [
    "output_handler = SumoResultObjects(path_output_dir=path_output_dir)"
   ]
  },
  {
   "cell_type": "markdown",
   "id": "0237cdfc-ee1f-49ff-b9d8-0869d70c735b",
   "metadata": {},
   "source": [
    "`result_files` is an attribute to access output files."
   ]
  },
  {
   "cell_type": "code",
   "execution_count": 6,
   "id": "3e0617f8-ea9e-4686-98f4-16939674ca60",
   "metadata": {},
   "outputs": [
    {
     "data": {
      "text/plain": [
       "{'grid_loop.out.xml': ResultFile class for ../tests/resources/config_complete/output/grid_loop.out.xml}"
      ]
     },
     "execution_count": 6,
     "metadata": {},
     "output_type": "execute_result"
    }
   ],
   "source": [
    "output_handler.result_files"
   ]
  },
  {
   "cell_type": "markdown",
   "id": "150302ee-1b83-400d-85eb-c5d05f37da7d",
   "metadata": {},
   "source": [
    "## Obtaining matrix objects"
   ]
  },
  {
   "cell_type": "code",
   "execution_count": 7,
   "id": "08abf503-885f-48fa-ad52-54c070174ac4",
   "metadata": {},
   "outputs": [],
   "source": [
    "grid_loop = output_handler.result_files['grid_loop.out.xml']"
   ]
  },
  {
   "cell_type": "markdown",
   "id": "cb498f01-c5c8-4c69-b03d-40d7a1439cd5",
   "metadata": {},
   "source": [
    "Let's check all metric that you can use in a matrix."
   ]
  },
  {
   "cell_type": "code",
   "execution_count": 8,
   "id": "4ca2393a-13f4-417b-8b18-18404831a58c",
   "metadata": {},
   "outputs": [
    {
     "data": {
      "text/plain": [
       "['end',\n",
       " 'harmonicmeanspeed',\n",
       " 'occupancy',\n",
       " 'speed',\n",
       " 'nvehcontrib',\n",
       " 'nvehentered',\n",
       " 'id',\n",
       " 'begin',\n",
       " 'flow',\n",
       " 'length']"
      ]
     },
     "execution_count": 8,
     "metadata": {},
     "output_type": "execute_result"
    }
   ],
   "source": [
    "grid_loop.key_attributes"
   ]
  },
  {
   "cell_type": "markdown",
   "id": "0dbd173f-96bb-4724-a406-de98728f005f",
   "metadata": {},
   "source": [
    "Now, we pick up `flow` as a metric."
   ]
  },
  {
   "cell_type": "code",
   "execution_count": 10,
   "id": "5169fd80-9636-4d79-a883-f3c1e53893ec",
   "metadata": {},
   "outputs": [],
   "source": [
    "matrix_flow = grid_loop.to_array_objects('flow')"
   ]
  },
  {
   "cell_type": "markdown",
   "id": "53de9aa8-8d60-48b3-bd99-b26f82d4ef44",
   "metadata": {},
   "source": [
    "## interaction with the matrix object\n",
    "\n",
    "The matrix object contains multiple information about the matrix."
   ]
  },
  {
   "cell_type": "code",
   "execution_count": 13,
   "id": "fb6c25ff-eb32-4352-97ec-b81bdc0b79b8",
   "metadata": {},
   "outputs": [],
   "source": [
    "import numpy as np"
   ]
  },
  {
   "cell_type": "code",
   "execution_count": 16,
   "id": "117d48ef-e719-4dd8-b8e2-d8cde0cf4005",
   "metadata": {},
   "outputs": [
    {
     "data": {
      "text/plain": [
       "array([[  0.,   0., 216., ..., 180.,  36.,   0.],\n",
       "       [  0., 288., 432., ..., 180., 252.,   0.],\n",
       "       [180., 252., 396., ..., 324.,  36.,   0.],\n",
       "       ...,\n",
       "       [ 72.,  36.,  72., ...,  36.,   0.,   0.],\n",
       "       [360., 288., 288., ..., 144.,   0.,   0.],\n",
       "       [  0.,  72.,  72., ...,  36.,   0.,   0.]])"
      ]
     },
     "execution_count": 16,
     "metadata": {},
     "output_type": "execute_result"
    }
   ],
   "source": [
    "# matrix of numpy.ndarray\n",
    "assert isinstance(matrix_flow.matrix, np.ndarray)\n",
    "matrix_flow.matrix"
   ]
  },
  {
   "cell_type": "markdown",
   "id": "78d6dc2e-8c55-404f-8cff-500a0b28ff3c",
   "metadata": {},
   "source": [
    "The matrix is with a form (n-detectors, n-time-intervals)"
   ]
  },
  {
   "cell_type": "code",
   "execution_count": 17,
   "id": "bd36774e-45fb-41a1-880a-96f8033f788e",
   "metadata": {},
   "outputs": [
    {
     "data": {
      "text/plain": [
       "(64, 21)"
      ]
     },
     "execution_count": 17,
     "metadata": {},
     "output_type": "execute_result"
    }
   ],
   "source": [
    "matrix_flow.matrix.shape"
   ]
  },
  {
   "cell_type": "code",
   "execution_count": 20,
   "id": "45c46c37-b4f4-4c73-a492-971c930b7650",
   "metadata": {},
   "outputs": [
    {
     "data": {
      "text/plain": [
       "array(['A0A1_0', 'A0A1_1', 'A0B0_0', 'A0B0_1', 'A1A0_0', 'A1A0_1',\n",
       "       'A1B1_0', 'A1B1_1', 'B0A0_0', 'B0A0_1', 'B0B1_0', 'B0B1_1',\n",
       "       'B0C0_0', 'B0C0_1', 'B1A1_0', 'B1A1_1', 'B1B0_0', 'B1B0_1',\n",
       "       'B1C1_0', 'B1C1_1', 'C0B0_0', 'C0B0_1', 'C0C1_0', 'C0C1_1',\n",
       "       'C0D0_0', 'C0D0_1', 'C1B1_0', 'C1B1_1', 'C1C0_0', 'C1C0_1',\n",
       "       'C1D1_0', 'C1D1_1', 'D0C0_0', 'D0C0_1', 'D0D1_0', 'D0D1_1',\n",
       "       'D1C1_0', 'D1C1_1', 'D1D0_0', 'D1D0_1', 'bottom0A0_0',\n",
       "       'bottom0A0_1', 'bottom1B0_0', 'bottom1B0_1', 'bottom2C0_0',\n",
       "       'bottom2C0_1', 'bottom3D0_0', 'bottom3D0_1', 'left0A0_0',\n",
       "       'left0A0_1', 'left1A1_0', 'left1A1_1', 'right0D0_0', 'right0D0_1',\n",
       "       'right1D1_0', 'right1D1_1', 'top0A1_0', 'top0A1_1', 'top1B1_0',\n",
       "       'top1B1_1', 'top2C1_0', 'top2C1_1', 'top3D1_0', 'top3D1_1'],\n",
       "      dtype='<U11')"
      ]
     },
     "execution_count": 20,
     "metadata": {},
     "output_type": "execute_result"
    }
   ],
   "source": [
    "# ids of detectors\n",
    "assert isinstance(matrix_flow.detectors, np.ndarray)\n",
    "assert len(matrix_flow.detectors) == 64\n",
    "matrix_flow.detectors"
   ]
  },
  {
   "cell_type": "code",
   "execution_count": 25,
   "id": "f3540a1a-b721-4a6d-956e-169a7aefb648",
   "metadata": {},
   "outputs": [
    {
     "name": "stdout",
     "output_type": "stream",
     "text": [
      "0th time-index, starting at 0.0 ending at 100.0\n",
      "1th time-index, starting at 100.0 ending at 200.0\n",
      "2th time-index, starting at 200.0 ending at 300.0\n",
      "3th time-index, starting at 300.0 ending at 400.0\n",
      "4th time-index, starting at 400.0 ending at 500.0\n",
      "5th time-index, starting at 500.0 ending at 600.0\n",
      "6th time-index, starting at 600.0 ending at 700.0\n",
      "7th time-index, starting at 700.0 ending at 800.0\n",
      "8th time-index, starting at 800.0 ending at 900.0\n",
      "9th time-index, starting at 900.0 ending at 1000.0\n",
      "10th time-index, starting at 1000.0 ending at 1100.0\n",
      "11th time-index, starting at 1100.0 ending at 1200.0\n",
      "12th time-index, starting at 1200.0 ending at 1300.0\n",
      "13th time-index, starting at 1300.0 ending at 1400.0\n",
      "14th time-index, starting at 1400.0 ending at 1500.0\n",
      "15th time-index, starting at 1500.0 ending at 1600.0\n",
      "16th time-index, starting at 1600.0 ending at 1700.0\n",
      "17th time-index, starting at 1700.0 ending at 1800.0\n",
      "18th time-index, starting at 1800.0 ending at 1900.0\n",
      "19th time-index, starting at 1900.0 ending at 2000.0\n",
      "20th time-index, starting at 2000.0 ending at 2047.0\n"
     ]
    }
   ],
   "source": [
    "# ids of time-intervals. There is 2 vectors for time-intervals; begins and ends\n",
    "assert len(matrix_flow.interval_begins) == 21\n",
    "assert len(matrix_flow.interval_end) == 21\n",
    "t_index = 0\n",
    "for t_begin, t_end in zip(matrix_flow.interval_begins, matrix_flow.interval_end):\n",
    "    print(f'{t_index}th time-index, starting at {t_begin} ending at {t_end}')\n",
    "    t_index += 1"
   ]
  },
  {
   "cell_type": "code",
   "execution_count": null,
   "id": "67765608-a7cb-4d2a-960e-a746a96eb729",
   "metadata": {},
   "outputs": [],
   "source": []
  }
 ],
 "metadata": {
  "kernelspec": {
   "display_name": "Python 3",
   "language": "python",
   "name": "python3"
  },
  "language_info": {
   "codemirror_mode": {
    "name": "ipython",
    "version": 3
   },
   "file_extension": ".py",
   "mimetype": "text/x-python",
   "name": "python",
   "nbconvert_exporter": "python",
   "pygments_lexer": "ipython3",
   "version": "3.6.13"
  }
 },
 "nbformat": 4,
 "nbformat_minor": 5
}
