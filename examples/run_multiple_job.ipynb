{
 "cells": [
  {
   "cell_type": "markdown",
   "source": [
    "This tutorial shows you how to run multiple SUMO simulations efficiently."
   ],
   "metadata": {
    "collapsed": false,
    "pycharm": {
     "name": "#%% md\n"
    }
   }
  },
  {
   "cell_type": "code",
   "execution_count": 2,
   "metadata": {
    "collapsed": true,
    "pycharm": {
     "name": "#%%\n"
    }
   },
   "outputs": [],
   "source": [
    "from sumo_docker_pipeline import LocalSumoPipeline, DockerPipeline\n",
    "from sumo_docker_pipeline import LocalFileHandler, GcsFileHandler\n",
    "from sumo_docker_pipeline import SumoConfigObject\n",
    "from pathlib import Path"
   ]
  },
  {
   "cell_type": "markdown",
   "source": [
    "First, one needs to define a file handler that controls tasks."
   ],
   "metadata": {
    "collapsed": false,
    "pycharm": {
     "name": "#%% md\n"
    }
   }
  },
  {
   "cell_type": "code",
   "execution_count": 5,
   "outputs": [],
   "source": [
    "path_save_root = Path('/tmp/SumoLocalOutput')\n",
    "path_save_root.mkdir(exist_ok=True, parents=True)\n",
    "local_filehandler = LocalFileHandler(path_save_root=path_save_root)"
   ],
   "metadata": {
    "collapsed": false,
    "pycharm": {
     "name": "#%%\n"
    }
   }
  },
  {
   "cell_type": "markdown",
   "source": [
    "`GcsFileHandler` is the handler whose backend is GCS on Google Cloud Computing. You're supposed to have a created bucket, a credential key to access the bucket.\n",
    "\n",
    "`GcsFileHandler` is useful when you run SUMO simulations in parallel of multiple machines."
   ],
   "metadata": {
    "collapsed": false,
    "pycharm": {
     "name": "#%% md\n"
    }
   }
  },
  {
   "cell_type": "code",
   "execution_count": null,
   "outputs": [],
   "source": [
    "# gcs_filehandler = GcsFileHandler(project_name=, bucket_name=, path_credential=)"
   ],
   "metadata": {
    "collapsed": false,
    "pycharm": {
     "name": "#%%\n"
    }
   }
  },
  {
   "cell_type": "code",
   "execution_count": 8,
   "outputs": [],
   "source": [
    "path_config = Path().cwd().parent.joinpath('tests/resources/config_complete')"
   ],
   "metadata": {
    "collapsed": false,
    "pycharm": {
     "name": "#%%\n"
    }
   }
  },
  {
   "cell_type": "markdown",
   "source": [
    "Next, you define tasks of SUMO simulations. In this example, you run the same SUMO configuration 4 times."
   ],
   "metadata": {
    "collapsed": false,
    "pycharm": {
     "name": "#%% md\n"
    }
   }
  },
  {
   "cell_type": "code",
   "execution_count": 9,
   "outputs": [],
   "source": [
    "sumo_config_tasks = [SumoConfigObject(scenario_name='example-1', path_config_dir=path_config, config_name='grid.sumo.cfg'),\n",
    "                     SumoConfigObject(scenario_name='example-2', path_config_dir=path_config, config_name='grid.sumo.cfg'),\n",
    "                     SumoConfigObject(scenario_name='example-3', path_config_dir=path_config, config_name='grid.sumo.cfg'),\n",
    "                     SumoConfigObject(scenario_name='example-4', path_config_dir=path_config, config_name='grid.sumo.cfg')]"
   ],
   "metadata": {
    "collapsed": false,
    "pycharm": {
     "name": "#%%\n"
    }
   }
  },
  {
   "cell_type": "markdown",
   "source": [
    "Finally, you start the defined tasks. You run these tasks in 4 threads this time."
   ],
   "metadata": {
    "collapsed": false,
    "pycharm": {
     "name": "#%% md\n"
    }
   }
  },
  {
   "cell_type": "code",
   "execution_count": 11,
   "outputs": [
    {
     "name": "stderr",
     "output_type": "stream",
     "text": [
      "running sumo simulator now...\n",
      "100%|██████████| 4/4 [00:00<00:00, 55.46it/s]\n",
      "Copy the config directory to /tmp/sumo-docker-pipeline/outputs/example-1\n",
      "executing job with command /usr/local/bin/sumo -c /tmp/sumo-docker-pipeline/outputs/example-1/grid.sumo.cfg\n",
      "Copy the config directory to /tmp/sumo-docker-pipeline/outputs/example-3\n",
      "executing job with command /usr/local/bin/sumo -c /tmp/sumo-docker-pipeline/outputs/example-3/grid.sumo.cfg\n",
      "Copy the config directory to /tmp/sumo-docker-pipeline/outputs/example-4\n",
      "executing job with command /usr/local/bin/sumo -c /tmp/sumo-docker-pipeline/outputs/example-4/grid.sumo.cfg\n",
      "Copy the config directory to /tmp/sumo-docker-pipeline/outputs/example-2\n",
      "executing job with command /usr/local/bin/sumo -c /tmp/sumo-docker-pipeline/outputs/example-2/grid.sumo.cfg\n",
      "done the simulation.\n"
     ]
    }
   ],
   "source": [
    "local_pipeline_task = LocalSumoPipeline(file_handler=local_filehandler, n_jobs=4, sumo_command='/usr/local/bin/sumo')\n",
    "sequence_sumo_result = local_pipeline_task.run_simulation(sumo_config_tasks)\n"
   ],
   "metadata": {
    "collapsed": false,
    "pycharm": {
     "name": "#%%\n"
    }
   }
  },
  {
   "cell_type": "code",
   "execution_count": 12,
   "outputs": [
    {
     "data": {
      "text/plain": "[SumoResultObjects(id_scenario='example-1', sumo_config_obj=SumoConfigObject(scenario_name='example-1', path_config_dir=PosixPath('/tmp/sumo-docker-pipeline/outputs/example-1'), config_name='grid.sumo.cfg', path_config_dir_original=PosixPath('/home/kensuke-mi/Projects/eurocom/phd_projects/sumo-utils/sumo-docker-pipeline/tests/resources/config_complete'), job_id='example-1'), path_output_dir=PosixPath('/tmp/SumoLocalOutput/pipeline-output/example-1'), log_message=None, result_files=None, is_compressed=False),\n SumoResultObjects(id_scenario='example-2', sumo_config_obj=SumoConfigObject(scenario_name='example-2', path_config_dir=PosixPath('/tmp/sumo-docker-pipeline/outputs/example-2'), config_name='grid.sumo.cfg', path_config_dir_original=PosixPath('/home/kensuke-mi/Projects/eurocom/phd_projects/sumo-utils/sumo-docker-pipeline/tests/resources/config_complete'), job_id='example-2'), path_output_dir=PosixPath('/tmp/SumoLocalOutput/pipeline-output/example-2'), log_message=None, result_files=None, is_compressed=False),\n SumoResultObjects(id_scenario='example-3', sumo_config_obj=SumoConfigObject(scenario_name='example-3', path_config_dir=PosixPath('/tmp/sumo-docker-pipeline/outputs/example-3'), config_name='grid.sumo.cfg', path_config_dir_original=PosixPath('/home/kensuke-mi/Projects/eurocom/phd_projects/sumo-utils/sumo-docker-pipeline/tests/resources/config_complete'), job_id='example-3'), path_output_dir=PosixPath('/tmp/SumoLocalOutput/pipeline-output/example-3'), log_message=None, result_files=None, is_compressed=False),\n SumoResultObjects(id_scenario='example-4', sumo_config_obj=SumoConfigObject(scenario_name='example-4', path_config_dir=PosixPath('/tmp/sumo-docker-pipeline/outputs/example-4'), config_name='grid.sumo.cfg', path_config_dir_original=PosixPath('/home/kensuke-mi/Projects/eurocom/phd_projects/sumo-utils/sumo-docker-pipeline/tests/resources/config_complete'), job_id='example-4'), path_output_dir=PosixPath('/tmp/SumoLocalOutput/pipeline-output/example-4'), log_message=None, result_files=None, is_compressed=False)]"
     },
     "execution_count": 12,
     "metadata": {},
     "output_type": "execute_result"
    }
   ],
   "source": [
    "sequence_sumo_result"
   ],
   "metadata": {
    "collapsed": false,
    "pycharm": {
     "name": "#%%\n"
    }
   }
  }
 ],
 "metadata": {
  "kernelspec": {
   "display_name": "Python 3",
   "language": "python",
   "name": "python3"
  },
  "language_info": {
   "codemirror_mode": {
    "name": "ipython",
    "version": 2
   },
   "file_extension": ".py",
   "mimetype": "text/x-python",
   "name": "python",
   "nbconvert_exporter": "python",
   "pygments_lexer": "ipython2",
   "version": "2.7.6"
  }
 },
 "nbformat": 4,
 "nbformat_minor": 0
}